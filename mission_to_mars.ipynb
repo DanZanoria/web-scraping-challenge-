{
 "metadata": {
  "language_info": {
   "codemirror_mode": {
    "name": "ipython",
    "version": 3
   },
   "file_extension": ".py",
   "mimetype": "text/x-python",
   "name": "python",
   "nbconvert_exporter": "python",
   "pygments_lexer": "ipython3",
   "version": "3.8.5-final"
  },
  "orig_nbformat": 2,
  "kernelspec": {
   "name": "python3",
   "display_name": "Python 3",
   "language": "python"
  }
 },
 "nbformat": 4,
 "nbformat_minor": 2,
 "cells": [
  {
   "source": [
    "## Imports And Setting UP the Jupyter"
   ],
   "cell_type": "markdown",
   "metadata": {}
  },
  {
   "cell_type": "code",
   "execution_count": 1,
   "metadata": {},
   "outputs": [],
   "source": [
    "import os\n",
    "from bs4 import BeautifulSoup as bs\n",
    "import requests\n",
    "import pymongo\n",
    "from splinter import Browser\n",
    "from webdriver_manager.chrome import ChromeDriverManager\n",
    "from splinter import Browser\n",
    "import pandas as pd"
   ]
  },
  {
   "cell_type": "code",
   "execution_count": 18,
   "metadata": {},
   "outputs": [],
   "source": [
    "\n",
    "#I am having a lot of issues with chromedriver so im including both ways to get it\n",
    "\n",
    "# executable_path = {'executable_path': ChromeDriverManager().install()}\n",
    "# browser = Browser('chrome', **executable_path, headless=False)\n",
    "\n",
    "executable_path = {'executable_path':r\"C:\\Users\\danza\\.wdm\\drivers\\chromedriver\\win32\\88.0.4324.96\\chromedriver.exe\"}\n",
    "browser = Browser('chrome', **executable_path, headless=False)\n"
   ]
  },
  {
   "source": [
    "## Connecting to the Nasa Url"
   ],
   "cell_type": "markdown",
   "metadata": {}
  },
  {
   "cell_type": "code",
   "execution_count": 243,
   "metadata": {},
   "outputs": [],
   "source": [
    "nasaurl = \"https://mars.nasa.gov/news/\"\n",
    "\n",
    "browser.visit(nasaurl)\n",
    "html = browser.html\n",
    "nsoup = bs(html, 'html.parser')\n",
    "# I want to see if this works. After confirming it works it will be commented out since it has no further need for nsoup\n",
    "# nsoup \n"
   ]
  },
  {
   "cell_type": "code",
   "execution_count": 240,
   "metadata": {},
   "outputs": [],
   "source": []
  },
  {
   "source": [
    "## Things that are identified before obtaining the information we need through code\n",
    "### Inspect the Webpage \n",
    "#### item_list - is where the titles and paragraph are located\n",
    "#### slide to get each individual slides or news article\n",
    "#### content_title is what we need to get a title\n",
    "#### \"article_teaser_body\" is the class to get a paragraph"
   ],
   "cell_type": "markdown",
   "metadata": {}
  },
  {
   "cell_type": "code",
   "execution_count": 263,
   "metadata": {},
   "outputs": [],
   "source": [
    "\n",
    "# Get the lastest 5 titles om the page. I would prefer if i can loop this this but for now this will do. I went through many variations of this code, and none of them went the way I wanted them.  \n",
    "Ntitle0 = nsoup.find_all(\"div\", class_ = \"content_title\")[0].text\n",
    "Ntitle1 = nsoup.find_all(\"div\", class_ = \"content_title\")[1].text\n",
    "Ntitle2 = nsoup.find_all(\"div\", class_ = \"content_title\")[2].text\n",
    "Ntitle3 = nsoup.find_all(\"div\", class_ = \"content_title\")[3].text\n",
    "Ntitle4 = nsoup.find_all(\"div\", class_ = \"content_title\")[4].text\n",
    "\n",
    "\n"
   ]
  },
  {
   "cell_type": "code",
   "execution_count": 285,
   "metadata": {},
   "outputs": [],
   "source": [
    "\n",
    "# Get the 5 latest paragraphs of the page I would prefer if i can loop this this but for now this will do. \n",
    "Npar0 = nsoup.find_all('div', class_=\"article_teaser_body\")[0].text\n",
    "Npar1 = nsoup.find_all('div', class_=\"article_teaser_body\")[1].text\n",
    "Npar2 = nsoup.find_all('div', class_=\"article_teaser_body\")[2].text\n",
    "Npar3 = nsoup.find_all('div', class_=\"article_teaser_body\")[3].text\n",
    "Npar4 = nsoup.find_all('div', class_=\"article_teaser_body\")[4].text\n",
    "\n",
    "\n",
    "#I would prefer to to do a for a loop that would capture the title and paragraph on the same loop. But i couldnt figure it out. So this will do. Either way the result i intended would have been the same. \n"
   ]
  },
  {
   "cell_type": "code",
   "execution_count": 284,
   "metadata": {},
   "outputs": [
    {
     "output_type": "stream",
     "name": "stdout",
     "text": [
      "News Title: Mars Now\nBrief Summary: Even as the Perseverance rover approaches Mars, technology on board is paying off on Earth.\n \nNews Title: NASA's Perseverance Pays Off Back Home\nBrief Summary: The Martian moon Phobos orbits through a stream of charged atoms and molecules that flow off the Red Planet’s atmosphere, new research shows.\n \nNews Title: Could the Surface of Phobos Reveal Secrets of the Martian Past?\nBrief Summary: With a suite of new national and international spacecraft primed to explore the Red Planet after their arrival next month, NASA’s MAVEN mission is ready to provide support and continue its study of the Martian atmosphere.\n \nNews Title: NASA's MAVEN Continues to Advance Mars Science and Telecommunications Relay Efforts\nBrief Summary: Seven minutes of harrowing descent to the Red Planet is in the not-so-distant future for the agency’s Mars 2020 mission.  \n \nNews Title: NASA's Perseverance Rover 22 Days From Mars Landing\nBrief Summary: Ingenuity, a technology experiment, is preparing to attempt the first powered, controlled flight on the Red Planet.\n"
     ]
    }
   ],
   "source": [
    "# Print the captured Variables and putting them in readable format. the print(\" \") is just so i can have an empty space as a seperator between each article/summary group\n",
    "print(f\"News Title: \" + Ntitle0)\n",
    "print(f\"Brief Summary: \" + Npar0)\n",
    "print(\" \")\n",
    "print(f\"News Title: \" + Ntitle1)\n",
    "print(f\"Brief Summary: \" + Npar1)\n",
    "print(\" \")\n",
    "print(f\"News Title: \" + Ntitle2)\n",
    "print(f\"Brief Summary: \" + Npar2)\n",
    "print(\" \")\n",
    "print(f\"News Title: \" + Ntitle3)\n",
    "print(f\"Brief Summary: \" + Npar3)\n",
    "print(\" \")\n",
    "print(f\"News Title: \" + Ntitle4)\n",
    "print(f\"Brief Summary: \" + Npar4)"
   ]
  },
  {
   "cell_type": "code",
   "execution_count": 283,
   "metadata": {},
   "outputs": [],
   "source": [
    "#"
   ]
  },
  {
   "cell_type": "code",
   "execution_count": null,
   "metadata": {},
   "outputs": [],
   "source": []
  }
 ]
}